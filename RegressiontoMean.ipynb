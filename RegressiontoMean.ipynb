{
 "cells": [
  {
   "cell_type": "markdown",
   "metadata": {},
   "source": [
    "\n",
    "<font size=\"4\" style=\"color:red;\"> **IMPORTANT: ** When submitting this notebook as homework, make sure you Only modify cells which have the following comment</font>\n",
    "\n",
    "```python\n",
    "# modify this cell\n",
    "```\n",
    "\n"
   ]
  },
  {
   "cell_type": "markdown",
   "metadata": {},
   "source": [
    "## Setup Notebook"
   ]
  },
  {
   "cell_type": "code",
   "execution_count": 23,
   "metadata": {},
   "outputs": [
    {
     "name": "stdout",
     "output_type": "stream",
     "text": [
      "%pylab is deprecated, use %matplotlib inline and import the required libraries.\n",
      "Populating the interactive namespace from numpy and matplotlib\n"
     ]
    },
    {
     "name": "stderr",
     "output_type": "stream",
     "text": [
      "C:\\Users\\jerri\\anaconda3\\lib\\site-packages\\IPython\\core\\magics\\pylab.py:162: UserWarning: pylab import has clobbered these variables: ['tril_indices_from', 'logaddexp2', 'cumproduct', 'eye', 'frombuffer', 'logical_xor', 'asarray', 'hypot', 'format_float_scientific', 'typename', 'nanpercentile', 'column_stack', 'trunc', 'real_if_close', 'blackman', 'empty_like', 'i0', 'split', 'datetime_data', 'randn', 'swapaxes', 'logical_not', 'arctan2', 'issubclass_', 'trapz', 'partition', 'broadcast_to', 'polyadd', 'busday_offset', 'polyint', 'geomspace', 'nonzero', 'full', 'fft', 'unique', 'concatenate', 'fmod', 'meshgrid', 'histogramdd', 'save', 'sqrt', 'deprecate_with_doc', 'gcd', 'modf', 'logspace', 'reshape', 'fliplr', 'outer', '__version__', 'safe_eval', 'lookfor', 'sum', 'take', 'is_busday', 'insert', 'allclose', 'apply_over_axes', 'fmin', 'power', 'pad', 'diagflat', 'interp', 'msort', 'bartlett', 'hamming', 'array2string', 'nanvar', 'equal', 'isinf', 'shares_memory', 'all', 'arcsin', 'choose', 'linspace', 'tri', 'ndim', 'median', 'greater', 'convolve', 'ascontiguousarray', 'dot', 'unravel_index', 'isfinite', 'set_string_function', 'invert', 'matmul', 'show_config', 'positive', 'put', 'log', 'apply_along_axis', 'degrees', 'ravel', 'arccosh', 'right_shift', 'nancumprod', 'not_equal', 'mask_indices', 'stack', 'absolute', 'fromfunction', 'full_like', 'add', 'percentile', 'delete', 'source', 'floor_divide', 'f', 'quantile', 'put_along_axis', 'angle', 'arctan', 'asarray_chkfinite', 'savez_compressed', 'fix', 'append', 'cosh', 'tile', 'ravel_multi_index', 'histogram2d', 'fromfile', 'shape', 'repeat', 'flip', 'searchsorted', 'set_numeric_ops', 'setbufsize', 'common_type', 'ptp', 'compare_chararrays', 'iscomplexobj', 'roll', 'select', 'triu_indices', 'correlate', 'gradient', 'square', 'min_scalar_type', 'issubdtype', 'nancumsum', 'logical_and', 'place', 'nan_to_num', 'mintypecode', 'lcm', 'exp', 'hanning', 'array_equal', 'flatnonzero', 'atleast_1d', 'greater_equal', 'spacing', 'extract', 'true_divide', 'trim_zeros', 'union1d', 'average', 'may_share_memory', 'array_split', 'ix_', 'ldexp', 'disp', 'multiply', 'geterrobj', 'signbit', 'recfromtxt', 'cov', '_add_newdoc_ufunc', 'isposinf', 'packbits', 'sinh', 'find_common_type', 'divmod', 'trace', 'polyder', 'geterrcall', 'real', 'piecewise', 'recfromcsv', 'log2', 'heaviside', 'sctype2char', 'isrealobj', 'dstack', 'add_newdoc', 'logaddexp', 'roots', 'ones_like', 'arccos', 'any', 'cumsum', 'polysub', 'polydiv', 'polymul', 'moveaxis', 'bitwise_or', 'cross', 'tan', 'digitize', 'std', 'mat', 'var', 'where', 'bmat', 'seterr', 'unpackbits', 'prod', 'empty', 'add_docstring', 'iterable', 'dsplit', 'vsplit', 'mean', 'isscalar', 'geterr', 'inner', 'block', 'rollaxis', 'round_', 'maximum', 'promote_types', 'hstack', 'rad2deg', 'squeeze', 'amin', 'asfortranarray', 'conj', 'array_str', 'alltrue', 'frompyfunc', 'byte_bounds', 'broadcast_shapes', 'rand', 'zeros', 'less', 'minimum', 'left_shift', 'frexp', 'ndfromtxt', 'einsum_path', 'expand_dims', 'asfarray', 'diff', 'fabs', 'result_type', 'rot90', 'floor', 'diag_indices', 'maximum_sctype', 'triu_indices_from', 'nanmin', 'vdot', 'deg2rad', 'load', 'putmask', 'cos', 'transpose', 'flipud', 'asmatrix', 'nanprod', 'alen', 'seterrcall', 'nanargmax', 'compress', 'rint', 'tanh', 'nanmean', 'argsort', 'nanargmin', 'imag', 'sin', 'poly', 'copyto', 'asanyarray', 'sort', 'argmax', 'set_printoptions', 'histogram', 'bincount', 'info', 'sign', 'divide', 'size', 'array_repr', 'diag', 'obj2sctype', 'get_printoptions', 'triu', 'resize', 'broadcast_arrays', 'count_nonzero', 'get_array_wrap', 'bitwise_and', 'argpartition', 'mafromtxt', 'cumprod', 'fromregex', 'nanstd', 'einsum', 'kaiser', 'ceil', 'clip', 'copy', 'lexsort', 'arctanh', 'indices', 'deprecate', 'fmax', 'tril', 'histogram_bin_edges', 'tensordot', 'savetxt', 'negative', 'isreal', 'nansum', 'zeros_like', 'around', 'printoptions', 'atleast_3d', 'bitwise_not', 'exp2', 'product', 'asscalar', 'array_equiv', 'nanmedian', 'take_along_axis', 'hsplit', 'expm1', 'who', 'issctype', 'issubsctype', 'radians', 'tril_indices', 'identity', 'arcsinh', 'row_stack', 'reciprocal', 'format_float_positional', 'ifft', 'copysign', 'busday_count', 'nested_iters', 'datetime_as_string', 'polyfit', 'mod', 'require', 'can_cast', 'fastCopyAndTranspose', 'argmin', 'isneginf', 'intersect1d', 'corrcoef', 'diag_indices_from', 'isnat', 'base_repr', 'fill_diagonal', 'savez', 'fromiter', 'diagonal', 'conjugate', 'setdiff1d', 'setxor1d', 'seterrobj', 'subtract', 'unwrap', 'vander', 'float_power', 'bitwise_xor', 'binary_repr', 'isclose', 'argwhere', 'sinc', 'kron', 'cbrt', 'isfortran', 'loadtxt', 'sometrue', 'atleast_2d', 'add_newdoc_ufunc', 'remainder', 'ediff1d', 'in1d', 'nanquantile', 'log1p', 'isnan', 'fromstring', 'vstack', 'logical_or', 'genfromtxt', 'loads', 'log10', 'sort_complex', 'nanmax', 'polyval', 'get_include', 'less_equal', 'amax', 'isin', 'getbufsize', 'iscomplex', 'nextafter']\n",
      "`%matplotlib` prevents importing * from pylab and numpy\n",
      "  warn(\"pylab import has clobbered these variables: %s\"  % clobbered +\n"
     ]
    }
   ],
   "source": [
    "# Homework Credit: https://github.com/VSerpak/DSE210x-Statistics-and-Probability-in-Data-Science-using-Python/tree/master/Week%209%20Regression%20and%20PCA\n",
    "%pylab inline\n",
    "# %pylab magic function is entered at the IPython prompt, it triggers the import of various modules within Matplotlib\n",
    "from scipy import *\n",
    "from numpy.linalg import norm\n",
    "from math import sqrt,sin,cos\n",
    "import pandas as pd\n",
    "import numpy as np\n",
    "from numpy import arange,array,ones,linalg"
   ]
  },
  {
   "cell_type": "markdown",
   "metadata": {},
   "source": [
    "Below is a **helper function** that outputs a predicted value from a regression fit:"
   ]
  },
  {
   "cell_type": "code",
   "execution_count": 24,
   "metadata": {},
   "outputs": [],
   "source": [
    "def f(x, reg):\n",
    "    return reg[0]+ x*reg[1]"
   ]
  },
  {
   "cell_type": "markdown",
   "metadata": {},
   "source": [
    "# Regression"
   ]
  },
  {
   "cell_type": "markdown",
   "metadata": {},
   "source": [
    "It is now your turn to try out all of the above code. For this exercise you will measure the relationship between hours studyig and student grades for a simulated dataset. Below is a scatter plot of the data."
   ]
  },
  {
   "cell_type": "code",
   "execution_count": 25,
   "metadata": {},
   "outputs": [
    {
     "name": "stdout",
     "output_type": "stream",
     "text": [
      "(1000, 2)\n",
      "   study_hours     grades\n",
      "0    32.143368  75.636962\n",
      "1    27.466725  76.932627\n",
      "2    21.247638  68.575996\n",
      "3    33.726661  81.221442\n",
      "4    36.501309  84.787467\n"
     ]
    },
    {
     "data": {
      "image/png": "[encoded data removed]",
      "text/plain": [
       "<Figure size 720x576 with 1 Axes>"
      ]
     },
     "metadata": {
      "needs_background": "light"
     },
     "output_type": "display_data"
    }
   ],
   "source": [
    "# data is pandas dataframe\n",
    "data = pd.read_csv('data/hw_regression_data.csv')\n",
    "# print how data is organized\n",
    "# (1000,2) means 1000 rows, 2 columns, not including title\n",
    "print(data.shape)\n",
    "# preview data first 5 rows\n",
    "print(data.head())\n",
    "\n",
    "# plot scatter plot, s defines dot size\n",
    "ax= data.plot(kind='scatter',s=1.4,x=\"study_hours\",y=\"grades\",figsize=[10,8]);\n",
    "# ax= data.plot(kind='scatter',s=140,x=\"study_hours\",y=\"grades\",figsize=[10,8]);"
   ]
  },
  {
   "cell_type": "markdown",
   "metadata": {},
   "source": [
    "## Exercise 1: Get Averages\n",
    "\n",
    "Write a function, **get_averages**, that:\n",
    "1. For all data points round the student's study hours to the nearest whole number.\n",
    "2. Compute the mean grade for each rounded whole number of study hours.\n",
    "\n",
    "The function should return a pandas dataframe of the mean grades for each existing rounded whole number. The beginning of the panda dataframe is provided for you below:\n",
    "\n",
    "<font  style=\"color:blue\"> * **Code:** *</font>\n",
    "```python\n",
    "grade_means = get_averages(data)\n",
    "\n",
    "print type( grade_means )\n",
    "print grade_means.shape\n",
    "print grade_means.columns \n",
    "grade_means.head()\n",
    "# hint: round(), data.groupby(data['study_hours']), mean()\n",
    "```\n",
    "\n",
    "<font  style=\"color:magenta\"> * **Output:** *</font>\n",
    "```\n",
    "<class 'pandas.core.frame.DataFrame'>\n",
    "(38, 1)\n",
    "Index([u'grades'], dtype='object')\n",
    "```\n",
    "<img src=\"data/reg_ex_table.png\"  style=\"width: 190px;\"/>"
   ]
  },
  {
   "cell_type": "code",
   "execution_count": 26,
   "metadata": {},
   "outputs": [],
   "source": [
    "# modify this cell\n",
    "\n",
    "def get_averages(data):\n",
    "    # input: the HW's dataset\n",
    "    # output: a pandas dataframe yielding the mean grade for each rounded number of study hours\n",
    "    \n",
    "    \n",
    "    # Your code\n",
    "    # round function can round numbers to the nearest whole number\n",
    "    # use .round() function\n",
    "    \n",
    "    data = data.copy()\n",
    "    data['study_hours'] = data['study_hours'].round()\n",
    "    \n",
    "    \n",
    "    # generate average grades for the same round-study-hours\n",
    "    # hint use groupby and mean function \n",
    "    return data.groupby('study_hours').mean()\n",
    "    \n",
    "\n"
   ]
  },
  {
   "cell_type": "code",
   "execution_count": 27,
   "metadata": {
    "nbgrader": {
     "grade": true,
     "grade_id": "ex1",
     "locked": true,
     "points": "5",
     "solution": false
    }
   },
   "outputs": [
    {
     "name": "stderr",
     "output_type": "stream",
     "text": [
      "C:\\Users\\jerri\\AppData\\Local\\Temp\\ipykernel_12320\\453460384.py:10: DeprecationWarning: scipy.sum is deprecated and will be removed in SciPy 2.0.0, use numpy.sum instead\n",
      "  try: assert sum(abs( grade_means.tail()[\"grades\"].values - \\\n"
     ]
    },
    {
     "data": {
      "image/png": "[encoded data removed]",
      "text/plain": [
       "<Figure size 720x576 with 1 Axes>"
      ]
     },
     "metadata": {
      "needs_background": "light"
     },
     "output_type": "display_data"
    }
   ],
   "source": [
    "# check student function\n",
    "grade_means = get_averages(data)\n",
    "\n",
    "assert grade_means.shape == (38, 1)\n",
    "assert str(type(grade_means)) == \"<class 'pandas.core.frame.DataFrame'>\"\n",
    "\n",
    "try: assert grade_means.columns[0] == \"grades\"\n",
    "except: raise ValueError('the column in \"grade_means\" must be named grades')\n",
    "\n",
    "try: assert sum(abs( grade_means.tail()[\"grades\"].values - \\\n",
    "               np.array([ 90.77739,90.02272,92.97258,91.87963,93.48365])    )) < 10**-4\n",
    "except: raise ValueError('some values are incorrect in grade_means')\n",
    " \n",
    "\n",
    "# plot Graph\n",
    "ax= data.plot(kind='scatter',s=1.4,x=\"study_hours\",y=\"grades\",figsize=[10,8]);\n",
    "grade_means.plot(y='grades',style='ro', ax=ax,legend=False)\n",
    "_xlim = xlim()\n",
    "_ylim =ylim()\n",
    "for _x in arange(_xlim[0]+0.5,_xlim[1],1):\n",
    "    plot([_x,_x],[_ylim[0],_ylim[1]],'g')\n",
    "\n",
    "#\n",
    "# AUTOGRADER TEST - DO NOT REMOVE\n",
    "#\n"
   ]
  },
  {
   "cell_type": "markdown",
   "metadata": {},
   "source": [
    "## Exercise 2: Simple Linear Regression\n",
    "\n",
    "Write a function, **do_regression**, that performs linear regression to return \n",
    "$ \\;\n",
    " {\\bf w} = \\begin{pmatrix}\n",
    " w_0\\\\\n",
    " w_1\n",
    " \\end{pmatrix}\n",
    "$\n",
    "for the equation:\n",
    "\n",
    "$$\n",
    "\\text{grades}= w_0 + w_1 \\cdot \\text{study_hours}\n",
    "$$\n",
    "\n",
    "** *Hint* **: Use the function `linalg.lstsq`, which returns the least-squares solution to a linear matrix equation.\n",
    "Here is the [function Link](https://docs.scipy.org/doc/numpy/reference/generated/numpy.linalg.lstsq.html), check the first example about y = mx + c;\n",
    ".value can convert df column into numpy arrary; you may need to use ```np.array([w0[0],w1[0]])``` to generate output\n",
    "\n",
    "\n",
    "<font  style=\"color:blue\"> * **Code:** *</font>\n",
    "```python\n",
    "w = do_regression(data)\n",
    "print type(w)\n",
    "print w.shape\n",
    "```\n",
    "\n",
    "<font  style=\"color:magenta\"> * **Output:** *</font>\n",
    "```\n",
    "<type 'numpy.ndarray'>\n",
    "(2,)\n",
    "```"
   ]
  },
  {
   "cell_type": "code",
   "execution_count": 34,
   "metadata": {},
   "outputs": [],
   "source": [
    "def do_regression(data):\n",
    "    # input: the HW's dataset\n",
    "    # output: a numpy array yielding w=(w0,w1) from linear regression\n",
    "    \n",
    "    # Your code\n",
    "    # groupby grade, .value\n",
    "    # vstack merges a column containing only ones with x\n",
    "    avg_data = get_averages(data)\n",
    "    x = avg_data.index.values\n",
    "    # groupby grade, .value\n",
    "    y = avg_data.values\n",
    "    # vstack merges a column containing only ones with x\n",
    "    A = np.vstack([x, np.ones(len(x))]).T\n",
    "    # least-squares solution to a linear matrix equation.\n",
    "    # rcond: Cut-off ratio for small singular values of a. \n",
    "    # Singular values are set to zero if they are smaller than rcond times the largest singular value of a.\n",
    "    w1, w0 = np.linalg.lstsq(A, y, rcond=None)[0]\n",
    "    return np.array([w0[0],w1[0]])\n"
   ]
  },
  {
   "cell_type": "code",
   "execution_count": 35,
   "metadata": {
    "nbgrader": {
     "grade": true,
     "grade_id": "ex2",
     "locked": true,
     "points": "5",
     "solution": false
    }
   },
   "outputs": [
    {
     "name": "stdout",
     "output_type": "stream",
     "text": [
      "[48.21376494  0.83488579]\n",
      "14.927147671335 58.100057672765\n"
     ]
    },
    {
     "data": {
      "image/png": "[encoded data removed]",
      "text/plain": [
       "<Figure size 720x576 with 1 Axes>"
      ]
     },
     "metadata": {
      "needs_background": "light"
     },
     "output_type": "display_data"
    }
   ],
   "source": [
    "# check student function\n",
    "w1_hw = do_regression(data)\n",
    "assert str(type(w1_hw)) ==  \"<class 'numpy.ndarray'>\"\n",
    "assert w1_hw.shape == (2,)\n",
    "assert abs(w1_hw[0] - 48.0694704904) < 1\n",
    "\n",
    "\n",
    "# plot Means\n",
    "print(w1_hw)\n",
    "ax= data.plot(kind='scatter',s=1.4,x=\"study_hours\",y=\"grades\",figsize=[10,8]);\n",
    "# return current limit of x axis\n",
    "x0,x1=xlim()\n",
    "print(x0, x1)\n",
    "# f is the helper function we have defined\n",
    "# with two different points, the plot function from pandas can draw a line\n",
    "ax.plot([x0,x1],[f(x0,w1_hw),f(x1,w1_hw)],'k');\n",
    "\n",
    "#\n",
    "# AUTOGRADER TEST - DO NOT REMOVE\n",
    "#\n"
   ]
  },
  {
   "cell_type": "markdown",
   "metadata": {},
   "source": [
    "## Exercise 3: Reversed Regression\n",
    "\n",
    "Write a function, **reverse_regression**, that again performs linear regression to return \n",
    "$ \\;\n",
    " {\\bf w} = \\begin{pmatrix}\n",
    " w_0\\\\\n",
    " w_1\n",
    " \\end{pmatrix}\n",
    "$\n",
    "but this time for:\n",
    "\n",
    "$$\n",
    "\\text{study_hours}= w_0 + w_1 \\cdot \\text{grades}\n",
    "$$\n",
    "\n",
    "** *Hint* **: ```x[:,0]``` can access the first column of a numpy array\n",
    "\n",
    "\n",
    "<font  style=\"color:blue\"> * **Code:** *</font>\n",
    "```python\n",
    "w = reverse_regression(data)\n",
    "print type(w)\n",
    "print w.shape\n",
    "```\n",
    "\n",
    "<font  style=\"color:magenta\"> * **Output:** *</font>\n",
    "```\n",
    "<type 'numpy.ndarray'>\n",
    "(2,)\n",
    "```"
   ]
  },
  {
   "cell_type": "code",
   "execution_count": 32,
   "metadata": {},
   "outputs": [],
   "source": [
    "# modify this cell\n",
    "\n",
    "def reverse_regression(data):\n",
    "    # input: the HW's dataset\n",
    "    # output: a numpy array yielding w=(w0,w1) for the reversed linear regression\n",
    "    \n",
    "    # Your code\n",
    "    # groupby grade, .value\n",
    "    # vstack merges a column containing only ones with x\n",
    "    avg_data = get_averages(data)\n",
    "    '''TODO Reverse x and y, check do_regression function'''\n",
    "    # vstack merges a column containing only ones with x\n",
    "    A = np.vstack([x, np.ones(len(x))]).T\n",
    "    w1, w0 = np.linalg.lstsq(data.study_hours,data.grades , rcond=None)[0]\n",
    "    # because y is 1D so this is [w0,w1]\n",
    "    return np.array([w0,w1])\n"
   ]
  },
  {
   "cell_type": "code",
   "execution_count": 33,
   "metadata": {
    "nbgrader": {
     "grade": true,
     "grade_id": "ex3",
     "locked": true,
     "points": "5",
     "solution": false
    }
   },
   "outputs": [
    {
     "ename": "NameError",
     "evalue": "name 'x' is not defined",
     "output_type": "error",
     "traceback": [
      "\u001b[1;31m---------------------------------------------------------------------------\u001b[0m",
      "\u001b[1;31mNameError\u001b[0m                                 Traceback (most recent call last)",
      "Input \u001b[1;32mIn [33]\u001b[0m, in \u001b[0;36m<cell line: 2>\u001b[1;34m()\u001b[0m\n\u001b[0;32m      1\u001b[0m \u001b[38;5;66;03m# check answer\u001b[39;00m\n\u001b[1;32m----> 2\u001b[0m w2_hw \u001b[38;5;241m=\u001b[39m \u001b[43mreverse_regression\u001b[49m\u001b[43m(\u001b[49m\u001b[43mdata\u001b[49m\u001b[43m)\u001b[49m\n\u001b[0;32m      3\u001b[0m \u001b[38;5;28;01massert\u001b[39;00m \u001b[38;5;28mstr\u001b[39m(\u001b[38;5;28mtype\u001b[39m(w2_hw)) \u001b[38;5;241m==\u001b[39m  \u001b[38;5;124m\"\u001b[39m\u001b[38;5;124m<class \u001b[39m\u001b[38;5;124m'\u001b[39m\u001b[38;5;124mnumpy.ndarray\u001b[39m\u001b[38;5;124m'\u001b[39m\u001b[38;5;124m>\u001b[39m\u001b[38;5;124m\"\u001b[39m\n\u001b[0;32m      4\u001b[0m \u001b[38;5;28;01massert\u001b[39;00m w2_hw\u001b[38;5;241m.\u001b[39mshape \u001b[38;5;241m==\u001b[39m (\u001b[38;5;241m2\u001b[39m,)\n",
      "Input \u001b[1;32mIn [32]\u001b[0m, in \u001b[0;36mreverse_regression\u001b[1;34m(data)\u001b[0m\n\u001b[0;32m     11\u001b[0m \u001b[38;5;124;03m'''TODO Reverse x and y, check do_regression function'''\u001b[39;00m\n\u001b[0;32m     12\u001b[0m \u001b[38;5;66;03m# vstack merges a column containing only ones with x\u001b[39;00m\n\u001b[1;32m---> 13\u001b[0m A \u001b[38;5;241m=\u001b[39m np\u001b[38;5;241m.\u001b[39mvstack([\u001b[43mx\u001b[49m, np\u001b[38;5;241m.\u001b[39mones(\u001b[38;5;28mlen\u001b[39m(x))])\u001b[38;5;241m.\u001b[39mT\n\u001b[0;32m     14\u001b[0m w1, w0 \u001b[38;5;241m=\u001b[39m np\u001b[38;5;241m.\u001b[39mlinalg\u001b[38;5;241m.\u001b[39mlstsq(data\u001b[38;5;241m.\u001b[39mstudy_hours,data\u001b[38;5;241m.\u001b[39mgrades , rcond\u001b[38;5;241m=\u001b[39m\u001b[38;5;28;01mNone\u001b[39;00m)[\u001b[38;5;241m0\u001b[39m]\n\u001b[0;32m     15\u001b[0m \u001b[38;5;66;03m# because y is 1D so this is [w0,w1]\u001b[39;00m\n",
      "\u001b[1;31mNameError\u001b[0m: name 'x' is not defined"
     ]
    }
   ],
   "source": [
    "# check answer\n",
    "w2_hw = reverse_regression(data)\n",
    "assert str(type(w2_hw)) ==  \"<class 'numpy.ndarray'>\"\n",
    "assert w2_hw.shape == (2,)\n",
    "assert abs(w2_hw[0] - -56.57) < 1\n",
    "\n",
    "# plot graph\n",
    "ax= data.plot(kind='scatter',s=1.4,x=\"study_hours\",y=\"grades\",figsize=[10,8]);\n",
    "x0,x1=xlim()\n",
    "ax.plot([x0,x1],[f(x0,w1_hw),f(x1,w1_hw)],'k');\n",
    "y0,y1=ylim()\n",
    "# reverse x and y axes to compare two lines\n",
    "ax.plot([f(y0,w2_hw),f(y1,w2_hw)],[y0,y1],'r');\n",
    "\n",
    "#\n",
    "# AUTOGRADER TEST - DO NOT REMOVE\n",
    "#\n"
   ]
  },
  {
   "cell_type": "markdown",
   "metadata": {},
   "source": [
    "# Homework: Regression to the Mean"
   ]
  },
  {
   "cell_type": "markdown",
   "metadata": {},
   "source": [
    "### Excercises\n",
    "\n",
    "It is now your turn to do regression on a dataset. Consider $1000$ datapoints with random variables $x$ and $y$ both sampled from a normal (gaussian) distribution:\n",
    "$$ x,y \\text{ ~ } \\mathcal{N}(0,1)  $$\n",
    "\n",
    "Notice that the graph below looks like a blob, with no clear relationship between  $x$ and $y$. This leads intuitively to the idea that $x$ and $y$ are independent from each other. In this particualr case (not always true) this intuition is correct, $x$ and $y$ are mathematically independent variables.\n",
    "\n",
    "If we were to try to perform linear regression on this data (the <font style=\"color:red\">red line</font>), we would find rather boring results:\n",
    "$$ y = 0 + 0 \\cdot x = 0 $$\n",
    "\n",
    "This is due to the fact that $y$ has mean 0 and is independent of $x$. What do you think would happen if we did:\n",
    "$$ y-x = w_0 + w_1 \\cdot x $$\n",
    "\n",
    "Is $y$ independent of $x$? Will the graph look like a blob? Will $y-x = 0 ?$ Lets find out!"
   ]
  },
  {
   "cell_type": "code",
   "execution_count": null,
   "metadata": {},
   "outputs": [],
   "source": [
    "HW=pd.read_csv('data/gauss_R2.csv')\n",
    "\n",
    "ax= HW.plot(kind='scatter',s=1.4,x=\"x\",y=\"y\");\n",
    "x0,x1=xlim()\n",
    "ax.plot([x0,x1],[0,0],'r');"
   ]
  },
  {
   "cell_type": "markdown",
   "metadata": {},
   "source": [
    "## Exercise 1: Put $\\;y-x\\;$ in Dataframe\n",
    "\n",
    "This first exercise's goal is to familarize you with the [pandas](http://pandas.pydata.org/pandas-docs/version/0.15.2/tutorials.html) package.\n",
    "\n",
    "Your task is to make a new column on the pandas dataframe `HW` where each element of the new column equals to $y-x$. Write a function **y_minus_x** that will create the new column, make sure the column's name is \"y-x\" . Notice that the function DOES NOT return any output, this is because the `HW` dataframe will be edited \"in-place\".\n",
    "\n",
    "<font  style=\"color:blue\"> * **Code:** *</font>\n",
    "```python\n",
    "print y_minus_x(HW)\n",
    "print HW.shape\n",
    "print HW.columns\n",
    "HW.head()\n",
    "```\n",
    "\n",
    "<font  style=\"color:magenta\"> * **Output:** *</font>\n",
    "```\n",
    "None\n",
    "(1000, 3)\n",
    "Index([u'x', u'y', u'y-x'], dtype='object')\n",
    "```\n",
    "<img src=\"data/reg_mean_pic.png\"  style=\"width: 220px;\"/>"
   ]
  },
  {
   "cell_type": "code",
   "execution_count": null,
   "metadata": {},
   "outputs": [],
   "source": [
    "def y_minus_x(HW):\n",
    "    # input: the HW's dataset\n",
    "    # output: there is NO OUTPUT\n",
    "    # the new column column should be called 'y-x'\n",
    "    \n",
    "    # Your code\n",
    "    \n"
   ]
  },
  {
   "cell_type": "code",
   "execution_count": null,
   "metadata": {
    "nbgrader": {
     "grade": true,
     "grade_id": "ex4",
     "locked": true,
     "points": "5",
     "solution": false
    }
   },
   "outputs": [],
   "source": [
    "# Check Answer\n",
    "HW=pd.read_csv('data/gauss_R2.csv')\n",
    "assert y_minus_x(HW) == None \n",
    "assert HW.shape == (1000, 3)\n",
    "assert all( HW.columns.values == array(['x', 'y', 'y-x']) )\n",
    "assert sum(abs( array(HW[\"y-x\"])[0:10] - \\\n",
    "               array([0.36236278,-2.37726552,-0.36501525,0.05449746,-0.27705517,1.80807383,-2.07001209,\n",
    "                      -0.67536514,0.67519959,  0.97277652])   )) < 10**-5\n",
    "\n",
    "# Create Graph\n",
    "ax= HW.plot(kind='scatter',s=1.4,x=\"x\",y=\"y-x\",figsize=[10,8], title=\"Plot of y-x\");\n",
    "\n",
    "#\n",
    "# AUTOGRADER TEST - DO NOT REMOVE\n",
    "#\n"
   ]
  },
  {
   "cell_type": "markdown",
   "metadata": {},
   "source": [
    "Notice in the graph that there is a clear negative relationship between $y-x$ and $x$. As you might have guessed, $y-x$ and $x$ are NOT independent. \n",
    "\n",
    "We can use linear regression to find the relationship between $y-x$ and $x$ but before we do that, we can derive this mathematicaly. Remember from before, we showed:\n",
    "$$ y = 0 + 0 \\cdot x $$\n",
    "\n",
    "Now, we're doing linear regression to find:\n",
    "$$ \\;\\;\\;\\;\\;\\;y-x = w_0 + w_1 \\cdot x $$\n",
    "$$ \\iff y = w_0 + (1+w_1) \\cdot x $$\n",
    "\n",
    "Comparing the two eqations for $y$, you can deduce that $w_0=0$ and $w_1=-1$ . Now lets see how close our sampled data is to the true equation for the distribution!\n",
    "\n",
    "$\\;$\n",
    "<font style=\"color:red\">*Technical Note:*</font> The derivation is mathematically sound only because $y-x$ is also a gaussian random variable. The sum of two gaussians is a gaussian. Under the laws of linear regression this ensures both the regressors of $y$ and $y-x$ have zero expected error."
   ]
  },
  {
   "cell_type": "markdown",
   "metadata": {},
   "source": [
    "## Exercise 2: Simple Linear Regression\n",
    "\n",
    "Write a function, **do_regression**, that performs linear regression to return \n",
    "$ \\;\n",
    " {\\bf w} = \\begin{pmatrix}\n",
    " w_0\\\\\n",
    " w_1\n",
    " \\end{pmatrix}\n",
    "$\n",
    "for the equation:\n",
    "\n",
    "$$\n",
    "\\text{y-x}= w_0 + w_1 \\cdot \\text{x}\n",
    "$$\n",
    "\n",
    "\n",
    "<font  style=\"color:blue\"> * **Code:** *</font>\n",
    "```python\n",
    "w = do_regression(HW)\n",
    "print type(w)\n",
    "print w.shape\n",
    "```\n",
    "\n",
    "<font  style=\"color:magenta\"> * **Output:** *</font>\n",
    "```\n",
    "<type 'numpy.ndarray'>\n",
    "(2,)\n",
    "```"
   ]
  },
  {
   "cell_type": "code",
   "execution_count": null,
   "metadata": {},
   "outputs": [],
   "source": [
    "# modify this cell\n",
    "\n",
    "def do_regression(HW):\n",
    "    # input: the HW's dataset\n",
    "    # output: a numpy array yielding w=(w0,w1) from linear regression\n",
    "    \n",
    "    # Your code\n",
    "    # vstack merges a column containing only ones with x\n",
    "    \n",
    "    \n"
   ]
  },
  {
   "cell_type": "code",
   "execution_count": null,
   "metadata": {
    "nbgrader": {
     "grade": true,
     "grade_id": "ex5",
     "locked": true,
     "points": "5",
     "solution": false
    }
   },
   "outputs": [],
   "source": [
    "# Check Answer\n",
    "w_hw = do_regression(HW)\n",
    "assert str(type(w_hw)) == \"<class 'numpy.ndarray'>\"\n",
    "assert w_hw.shape == (2,)\n",
    "assert sum(abs(w_hw[0] - 0.02173387)) < 10**-5\n",
    "\n",
    "# Plot Graph\n",
    "print(\"LINEAR REGRESSION EQUATION:\")\n",
    "print(\"y-x = {:.2f} + {:.2f} x\".format(w_hw[0],w_hw[1]))\n",
    "ax= HW.plot(kind='scatter',s=1.4,x=\"x\",y=\"y-x\",figsize=[10,8]);\n",
    "x0,x1=xlim()\n",
    "ax.plot([x0,x1],[f(x0,w_hw),f(x1,w_hw)],'k');\n",
    "\n",
    "#\n",
    "# AUTOGRADER TEST - DO NOT REMOVE\n",
    "#\n"
   ]
  },
  {
   "cell_type": "code",
   "execution_count": null,
   "metadata": {},
   "outputs": [],
   "source": [
    "\n",
    "\n",
    "\n",
    "\n",
    "\n",
    "\n",
    "\n",
    "\n",
    "\n"
   ]
  }
 ],
 "metadata": {
  "kernelspec": {
   "display_name": "Python 3 (ipykernel)",
   "language": "python",
   "name": "python3"
  },
  "language_info": {
   "codemirror_mode": {
    "name": "ipython",
    "version": 3
   },
   "file_extension": ".py",
   "mimetype": "text/x-python",
   "name": "python",
   "nbconvert_exporter": "python",
   "pygments_lexer": "ipython3",
   "version": "3.9.12"
  },
  "toc": {
   "colors": {
    "hover_highlight": "#DAA520",
    "navigate_num": "#000000",
    "navigate_text": "#333333",
    "running_highlight": "#FF0000",
    "selected_highlight": "#FFD700",
    "sidebar_border": "#EEEEEE",
    "wrapper_background": "#FFFFFF"
   },
   "moveMenuLeft": true,
   "nav_menu": {
    "height": "192px",
    "width": "252px"
   },
   "navigate_menu": true,
   "number_sections": true,
   "sideBar": true,
   "threshold": 4,
   "toc_cell": false,
   "toc_section_display": "block",
   "toc_window_display": false,
   "widenNotebook": false
  }
 },
 "nbformat": 4,
 "nbformat_minor": 2
}
